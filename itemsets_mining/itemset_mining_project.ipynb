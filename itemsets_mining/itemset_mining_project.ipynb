{
 "cells": [
  {
   "cell_type": "code",
   "execution_count": 1,
   "id": "8563e3f9",
   "metadata": {},
   "outputs": [],
   "source": [
    "import pandas as pd\n",
    "import numpy as np\n",
    "import matplotlib.pyplot as plt\n",
    "from sklearn.preprocessing import MultiLabelBinarizer\n",
    "from mlxtend.frequent_patterns import apriori"
   ]
  },
  {
   "cell_type": "code",
   "execution_count": 2,
   "id": "0d6f96b5",
   "metadata": {},
   "outputs": [
    {
     "data": {
      "text/html": [
       "<div>\n",
       "<style scoped>\n",
       "    .dataframe tbody tr th:only-of-type {\n",
       "        vertical-align: middle;\n",
       "    }\n",
       "\n",
       "    .dataframe tbody tr th {\n",
       "        vertical-align: top;\n",
       "    }\n",
       "\n",
       "    .dataframe thead th {\n",
       "        text-align: right;\n",
       "    }\n",
       "</style>\n",
       "<table border=\"1\" class=\"dataframe\">\n",
       "  <thead>\n",
       "    <tr style=\"text-align: right;\">\n",
       "      <th></th>\n",
       "      <th>order_id</th>\n",
       "      <th>product_id</th>\n",
       "    </tr>\n",
       "  </thead>\n",
       "  <tbody>\n",
       "    <tr>\n",
       "      <th>0</th>\n",
       "      <td>110</td>\n",
       "      <td>Organic Lemon</td>\n",
       "    </tr>\n",
       "    <tr>\n",
       "      <th>1</th>\n",
       "      <td>110</td>\n",
       "      <td>Organic Unsweetened Almond Milk</td>\n",
       "    </tr>\n",
       "    <tr>\n",
       "      <th>2</th>\n",
       "      <td>110</td>\n",
       "      <td>Beef Top Round Steak</td>\n",
       "    </tr>\n",
       "    <tr>\n",
       "      <th>3</th>\n",
       "      <td>110</td>\n",
       "      <td>Cotija</td>\n",
       "    </tr>\n",
       "    <tr>\n",
       "      <th>4</th>\n",
       "      <td>110</td>\n",
       "      <td>Organic Red Radish, Bunch</td>\n",
       "    </tr>\n",
       "  </tbody>\n",
       "</table>\n",
       "</div>"
      ],
      "text/plain": [
       "   order_id                       product_id\n",
       "0       110                    Organic Lemon\n",
       "1       110  Organic Unsweetened Almond Milk\n",
       "2       110             Beef Top Round Steak\n",
       "3       110                           Cotija\n",
       "4       110        Organic Red Radish, Bunch"
      ]
     },
     "execution_count": 2,
     "metadata": {},
     "output_type": "execute_result"
    }
   ],
   "source": [
    "DATA_FILE = 'project1_data.csv'\n",
    "df = pd.read_csv(DATA_FILE)\n",
    "df.head()"
   ]
  },
  {
   "cell_type": "markdown",
   "id": "ab2694f2",
   "metadata": {},
   "source": [
    "### Load, Transform, and Explore the Dataset\n",
    "\n",
    "---\n"
   ]
  },
  {
   "cell_type": "code",
   "execution_count": 3,
   "id": "7094028c",
   "metadata": {},
   "outputs": [
    {
     "data": {
      "text/plain": [
       "[{'B 12 Liquid B Complex',\n",
       "  'Banana',\n",
       "  'Beef Top Round Steak',\n",
       "  'Cotija',\n",
       "  'Jalapeno Peppers',\n",
       "  'Organic Iceberg Lettuce',\n",
       "  'Organic Lemon',\n",
       "  'Organic Red Radish, Bunch',\n",
       "  'Organic Unsweetened Almond Milk',\n",
       "  'Red Vine Tomato'},\n",
       " {'Dark Chocolate Nuts & Sea Salt Bars',\n",
       "  'Organic Raisin Bran Cereal',\n",
       "  'Tesora Medium Roast'},\n",
       " {'Black Beans',\n",
       "  'Classic Wheat Bread',\n",
       "  'Large Burrito Flour Tortillas',\n",
       "  'Mexican Style Taco Shredded Cheese',\n",
       "  'Original Kettle Cooked Potato Chips',\n",
       "  'Original Thin Pepperoni Pizza',\n",
       "  'Original Thin Sausage & Pepperoni Pizza',\n",
       "  'Swanson Premium Chicken Breast Chunks'}]"
      ]
     },
     "execution_count": 3,
     "metadata": {},
     "output_type": "execute_result"
    }
   ],
   "source": [
    "# Group by order_id and aggregate product_ids into sets\n",
    "itemsets = df.groupby('order_id')['product_id'].apply(set).tolist()\n",
    "itemsets[:3]\n",
    "# data = {\n",
    "#     'order_id': [1, 1, 2, 2, 2, 3, 3, 3],\n",
    "#     'product_id': ['A', 'B', 'A', 'B', 'C', 'A', 'B', 'C']\n",
    "# }"
   ]
  },
  {
   "cell_type": "markdown",
   "id": "a0757555",
   "metadata": {},
   "source": [
    "#### Itemset Matrix"
   ]
  },
  {
   "cell_type": "code",
   "execution_count": 4,
   "id": "ac04a435",
   "metadata": {},
   "outputs": [
    {
     "data": {
      "text/plain": [
       "array([[0, 0, 0, ..., 0, 0, 0],\n",
       "       [0, 0, 0, ..., 0, 0, 0],\n",
       "       [0, 0, 0, ..., 0, 0, 0],\n",
       "       ...,\n",
       "       [0, 0, 0, ..., 0, 0, 0],\n",
       "       [0, 0, 0, ..., 0, 0, 0],\n",
       "       [0, 0, 0, ..., 0, 0, 0]])"
      ]
     },
     "execution_count": 4,
     "metadata": {},
     "output_type": "execute_result"
    }
   ],
   "source": [
    "# Create itemset matrix using MultiLabelBinarizer\n",
    "mlb = MultiLabelBinarizer()\n",
    "itemset_matrix = mlb.fit_transform(itemsets)\n",
    "itemset_matrix"
   ]
  },
  {
   "cell_type": "markdown",
   "id": "388f033b",
   "metadata": {},
   "source": [
    "#### Itemset Dataframe"
   ]
  },
  {
   "cell_type": "code",
   "execution_count": 5,
   "id": "366b4b21",
   "metadata": {},
   "outputs": [
    {
     "data": {
      "text/html": [
       "<div>\n",
       "<style scoped>\n",
       "    .dataframe tbody tr th:only-of-type {\n",
       "        vertical-align: middle;\n",
       "    }\n",
       "\n",
       "    .dataframe tbody tr th {\n",
       "        vertical-align: top;\n",
       "    }\n",
       "\n",
       "    .dataframe thead th {\n",
       "        text-align: right;\n",
       "    }\n",
       "</style>\n",
       "<table border=\"1\" class=\"dataframe\">\n",
       "  <thead>\n",
       "    <tr style=\"text-align: right;\">\n",
       "      <th></th>\n",
       "      <th>0</th>\n",
       "      <th>1</th>\n",
       "      <th>2</th>\n",
       "      <th>3</th>\n",
       "      <th>4</th>\n",
       "      <th>5</th>\n",
       "      <th>6</th>\n",
       "      <th>7</th>\n",
       "      <th>8</th>\n",
       "      <th>9</th>\n",
       "      <th>...</th>\n",
       "      <th>25467</th>\n",
       "      <th>25468</th>\n",
       "      <th>25469</th>\n",
       "      <th>25470</th>\n",
       "      <th>25471</th>\n",
       "      <th>25472</th>\n",
       "      <th>25473</th>\n",
       "      <th>25474</th>\n",
       "      <th>25475</th>\n",
       "      <th>25476</th>\n",
       "    </tr>\n",
       "  </thead>\n",
       "  <tbody>\n",
       "    <tr>\n",
       "      <th>0</th>\n",
       "      <td>0</td>\n",
       "      <td>0</td>\n",
       "      <td>0</td>\n",
       "      <td>0</td>\n",
       "      <td>0</td>\n",
       "      <td>0</td>\n",
       "      <td>0</td>\n",
       "      <td>0</td>\n",
       "      <td>0</td>\n",
       "      <td>0</td>\n",
       "      <td>...</td>\n",
       "      <td>0</td>\n",
       "      <td>0</td>\n",
       "      <td>0</td>\n",
       "      <td>0</td>\n",
       "      <td>0</td>\n",
       "      <td>0</td>\n",
       "      <td>0</td>\n",
       "      <td>0</td>\n",
       "      <td>0</td>\n",
       "      <td>0</td>\n",
       "    </tr>\n",
       "    <tr>\n",
       "      <th>1</th>\n",
       "      <td>0</td>\n",
       "      <td>0</td>\n",
       "      <td>0</td>\n",
       "      <td>0</td>\n",
       "      <td>0</td>\n",
       "      <td>0</td>\n",
       "      <td>0</td>\n",
       "      <td>0</td>\n",
       "      <td>0</td>\n",
       "      <td>0</td>\n",
       "      <td>...</td>\n",
       "      <td>0</td>\n",
       "      <td>0</td>\n",
       "      <td>0</td>\n",
       "      <td>0</td>\n",
       "      <td>0</td>\n",
       "      <td>0</td>\n",
       "      <td>0</td>\n",
       "      <td>0</td>\n",
       "      <td>0</td>\n",
       "      <td>0</td>\n",
       "    </tr>\n",
       "    <tr>\n",
       "      <th>2</th>\n",
       "      <td>0</td>\n",
       "      <td>0</td>\n",
       "      <td>0</td>\n",
       "      <td>0</td>\n",
       "      <td>0</td>\n",
       "      <td>0</td>\n",
       "      <td>0</td>\n",
       "      <td>0</td>\n",
       "      <td>0</td>\n",
       "      <td>0</td>\n",
       "      <td>...</td>\n",
       "      <td>0</td>\n",
       "      <td>0</td>\n",
       "      <td>0</td>\n",
       "      <td>0</td>\n",
       "      <td>0</td>\n",
       "      <td>0</td>\n",
       "      <td>0</td>\n",
       "      <td>0</td>\n",
       "      <td>0</td>\n",
       "      <td>0</td>\n",
       "    </tr>\n",
       "    <tr>\n",
       "      <th>3</th>\n",
       "      <td>0</td>\n",
       "      <td>0</td>\n",
       "      <td>0</td>\n",
       "      <td>0</td>\n",
       "      <td>0</td>\n",
       "      <td>0</td>\n",
       "      <td>0</td>\n",
       "      <td>0</td>\n",
       "      <td>0</td>\n",
       "      <td>0</td>\n",
       "      <td>...</td>\n",
       "      <td>0</td>\n",
       "      <td>0</td>\n",
       "      <td>0</td>\n",
       "      <td>0</td>\n",
       "      <td>0</td>\n",
       "      <td>0</td>\n",
       "      <td>0</td>\n",
       "      <td>0</td>\n",
       "      <td>0</td>\n",
       "      <td>0</td>\n",
       "    </tr>\n",
       "    <tr>\n",
       "      <th>4</th>\n",
       "      <td>0</td>\n",
       "      <td>0</td>\n",
       "      <td>0</td>\n",
       "      <td>0</td>\n",
       "      <td>0</td>\n",
       "      <td>0</td>\n",
       "      <td>0</td>\n",
       "      <td>0</td>\n",
       "      <td>0</td>\n",
       "      <td>0</td>\n",
       "      <td>...</td>\n",
       "      <td>0</td>\n",
       "      <td>0</td>\n",
       "      <td>0</td>\n",
       "      <td>0</td>\n",
       "      <td>0</td>\n",
       "      <td>0</td>\n",
       "      <td>0</td>\n",
       "      <td>0</td>\n",
       "      <td>0</td>\n",
       "      <td>0</td>\n",
       "    </tr>\n",
       "    <tr>\n",
       "      <th>...</th>\n",
       "      <td>...</td>\n",
       "      <td>...</td>\n",
       "      <td>...</td>\n",
       "      <td>...</td>\n",
       "      <td>...</td>\n",
       "      <td>...</td>\n",
       "      <td>...</td>\n",
       "      <td>...</td>\n",
       "      <td>...</td>\n",
       "      <td>...</td>\n",
       "      <td>...</td>\n",
       "      <td>...</td>\n",
       "      <td>...</td>\n",
       "      <td>...</td>\n",
       "      <td>...</td>\n",
       "      <td>...</td>\n",
       "      <td>...</td>\n",
       "      <td>...</td>\n",
       "      <td>...</td>\n",
       "      <td>...</td>\n",
       "      <td>...</td>\n",
       "    </tr>\n",
       "    <tr>\n",
       "      <th>32144</th>\n",
       "      <td>0</td>\n",
       "      <td>0</td>\n",
       "      <td>0</td>\n",
       "      <td>0</td>\n",
       "      <td>0</td>\n",
       "      <td>0</td>\n",
       "      <td>0</td>\n",
       "      <td>0</td>\n",
       "      <td>0</td>\n",
       "      <td>0</td>\n",
       "      <td>...</td>\n",
       "      <td>0</td>\n",
       "      <td>0</td>\n",
       "      <td>0</td>\n",
       "      <td>0</td>\n",
       "      <td>0</td>\n",
       "      <td>0</td>\n",
       "      <td>0</td>\n",
       "      <td>0</td>\n",
       "      <td>0</td>\n",
       "      <td>0</td>\n",
       "    </tr>\n",
       "    <tr>\n",
       "      <th>32145</th>\n",
       "      <td>0</td>\n",
       "      <td>0</td>\n",
       "      <td>0</td>\n",
       "      <td>0</td>\n",
       "      <td>0</td>\n",
       "      <td>0</td>\n",
       "      <td>0</td>\n",
       "      <td>0</td>\n",
       "      <td>0</td>\n",
       "      <td>0</td>\n",
       "      <td>...</td>\n",
       "      <td>0</td>\n",
       "      <td>0</td>\n",
       "      <td>0</td>\n",
       "      <td>0</td>\n",
       "      <td>0</td>\n",
       "      <td>0</td>\n",
       "      <td>0</td>\n",
       "      <td>0</td>\n",
       "      <td>0</td>\n",
       "      <td>0</td>\n",
       "    </tr>\n",
       "    <tr>\n",
       "      <th>32146</th>\n",
       "      <td>0</td>\n",
       "      <td>0</td>\n",
       "      <td>0</td>\n",
       "      <td>0</td>\n",
       "      <td>0</td>\n",
       "      <td>0</td>\n",
       "      <td>0</td>\n",
       "      <td>0</td>\n",
       "      <td>0</td>\n",
       "      <td>0</td>\n",
       "      <td>...</td>\n",
       "      <td>0</td>\n",
       "      <td>0</td>\n",
       "      <td>0</td>\n",
       "      <td>0</td>\n",
       "      <td>0</td>\n",
       "      <td>0</td>\n",
       "      <td>0</td>\n",
       "      <td>0</td>\n",
       "      <td>0</td>\n",
       "      <td>0</td>\n",
       "    </tr>\n",
       "    <tr>\n",
       "      <th>32147</th>\n",
       "      <td>0</td>\n",
       "      <td>0</td>\n",
       "      <td>0</td>\n",
       "      <td>0</td>\n",
       "      <td>0</td>\n",
       "      <td>0</td>\n",
       "      <td>0</td>\n",
       "      <td>0</td>\n",
       "      <td>0</td>\n",
       "      <td>0</td>\n",
       "      <td>...</td>\n",
       "      <td>0</td>\n",
       "      <td>0</td>\n",
       "      <td>0</td>\n",
       "      <td>0</td>\n",
       "      <td>0</td>\n",
       "      <td>0</td>\n",
       "      <td>0</td>\n",
       "      <td>0</td>\n",
       "      <td>0</td>\n",
       "      <td>0</td>\n",
       "    </tr>\n",
       "    <tr>\n",
       "      <th>32148</th>\n",
       "      <td>0</td>\n",
       "      <td>0</td>\n",
       "      <td>0</td>\n",
       "      <td>0</td>\n",
       "      <td>0</td>\n",
       "      <td>0</td>\n",
       "      <td>0</td>\n",
       "      <td>0</td>\n",
       "      <td>0</td>\n",
       "      <td>0</td>\n",
       "      <td>...</td>\n",
       "      <td>0</td>\n",
       "      <td>0</td>\n",
       "      <td>0</td>\n",
       "      <td>0</td>\n",
       "      <td>0</td>\n",
       "      <td>0</td>\n",
       "      <td>0</td>\n",
       "      <td>0</td>\n",
       "      <td>0</td>\n",
       "      <td>0</td>\n",
       "    </tr>\n",
       "  </tbody>\n",
       "</table>\n",
       "<p>32149 rows × 25477 columns</p>\n",
       "</div>"
      ],
      "text/plain": [
       "       0      1      2      3      4      5      6      7      8      9      \\\n",
       "0          0      0      0      0      0      0      0      0      0      0   \n",
       "1          0      0      0      0      0      0      0      0      0      0   \n",
       "2          0      0      0      0      0      0      0      0      0      0   \n",
       "3          0      0      0      0      0      0      0      0      0      0   \n",
       "4          0      0      0      0      0      0      0      0      0      0   \n",
       "...      ...    ...    ...    ...    ...    ...    ...    ...    ...    ...   \n",
       "32144      0      0      0      0      0      0      0      0      0      0   \n",
       "32145      0      0      0      0      0      0      0      0      0      0   \n",
       "32146      0      0      0      0      0      0      0      0      0      0   \n",
       "32147      0      0      0      0      0      0      0      0      0      0   \n",
       "32148      0      0      0      0      0      0      0      0      0      0   \n",
       "\n",
       "       ...  25467  25468  25469  25470  25471  25472  25473  25474  25475  \\\n",
       "0      ...      0      0      0      0      0      0      0      0      0   \n",
       "1      ...      0      0      0      0      0      0      0      0      0   \n",
       "2      ...      0      0      0      0      0      0      0      0      0   \n",
       "3      ...      0      0      0      0      0      0      0      0      0   \n",
       "4      ...      0      0      0      0      0      0      0      0      0   \n",
       "...    ...    ...    ...    ...    ...    ...    ...    ...    ...    ...   \n",
       "32144  ...      0      0      0      0      0      0      0      0      0   \n",
       "32145  ...      0      0      0      0      0      0      0      0      0   \n",
       "32146  ...      0      0      0      0      0      0      0      0      0   \n",
       "32147  ...      0      0      0      0      0      0      0      0      0   \n",
       "32148  ...      0      0      0      0      0      0      0      0      0   \n",
       "\n",
       "       25476  \n",
       "0          0  \n",
       "1          0  \n",
       "2          0  \n",
       "3          0  \n",
       "4          0  \n",
       "...      ...  \n",
       "32144      0  \n",
       "32145      0  \n",
       "32146      0  \n",
       "32147      0  \n",
       "32148      0  \n",
       "\n",
       "[32149 rows x 25477 columns]"
      ]
     },
     "execution_count": 5,
     "metadata": {},
     "output_type": "execute_result"
    }
   ],
   "source": [
    "# Create itemset dataframe\n",
    "itemset_df = pd.DataFrame(itemset_matrix, columns=mlb.classes)\n",
    "itemset_df"
   ]
  },
  {
   "cell_type": "markdown",
   "id": "8aee7bf8",
   "metadata": {},
   "source": [
    "#### Number of unique orders and products"
   ]
  },
  {
   "cell_type": "code",
   "execution_count": 6,
   "id": "446eba15",
   "metadata": {},
   "outputs": [
    {
     "name": "stdout",
     "output_type": "stream",
     "text": [
      "Unique Orders: 32149, Unique Products: 25477\n"
     ]
    }
   ],
   "source": [
    "num_unique_orders = df['order_id'].nunique()\n",
    "num_unique_products = df['product_id'].nunique()\n",
    "print(f'Unique Orders: {num_unique_orders}, Unique Products: {num_unique_products}')"
   ]
  },
  {
   "cell_type": "markdown",
   "id": "c5be48a1",
   "metadata": {},
   "source": [
    "#### Histogram of order sizes"
   ]
  },
  {
   "cell_type": "code",
   "execution_count": 7,
   "id": "ddb2b21c",
   "metadata": {},
   "outputs": [
    {
     "data": {
      "image/png": "[encoded data removed]",
      "text/plain": [
       "<Figure size 640x480 with 1 Axes>"
      ]
     },
     "metadata": {},
     "output_type": "display_data"
    }
   ],
   "source": [
    "order_sizes = df.groupby('order_id').size()\n",
    "plt.hist(order_sizes,bins=range(1, order_sizes.max() + 2), align='left')\n",
    "plt.xlabel('Order Size')\n",
    "plt.ylabel('Frequency')\n",
    "plt.title('Histogram of Order Sizes')\n",
    "plt.show()"
   ]
  },
  {
   "cell_type": "markdown",
   "id": "094493cb",
   "metadata": {},
   "source": [
    "#### The distribution is skewed towards larger order sizes (skewed to the right), suggesting that many orders contain a higher number of products"
   ]
  },
  {
   "cell_type": "markdown",
   "id": "5163f4c6",
   "metadata": {},
   "source": [
    "---"
   ]
  },
  {
   "cell_type": "markdown",
   "id": "cb3b1c56",
   "metadata": {},
   "source": [
    "#### Top fifty products ordered"
   ]
  },
  {
   "cell_type": "code",
   "execution_count": 8,
   "id": "e0d400c1",
   "metadata": {},
   "outputs": [
    {
     "name": "stdout",
     "output_type": "stream",
     "text": [
      "Top fifty products ordered:\n",
      "Banana                                  4818\n",
      "Bag of Organic Bananas                  3797\n",
      "Organic Strawberries                    2715\n",
      "Organic Baby Spinach                    2530\n",
      "Organic Hass Avocado                    2136\n",
      "Organic Avocado                         1794\n",
      "Large Lemon                             1522\n",
      "Limes                                   1431\n",
      "Strawberries                            1411\n",
      "Organic Raspberries                     1345\n",
      "Organic Whole Milk                      1344\n",
      "Organic Yellow Onion                    1213\n",
      "Organic Garlic                          1110\n",
      "Organic Zucchini                        1057\n",
      "Organic Blueberries                      976\n",
      "Cucumber Kirby                           967\n",
      "Organic Fuji Apple                       922\n",
      "Organic Grape Tomatoes                   855\n",
      "Organic Lemon                            854\n",
      "Organic Cucumber                         829\n",
      "Apple Honeycrisp Organic                 810\n",
      "Organic Baby Carrots                     808\n",
      "Honeycrisp Apple                         794\n",
      "Organic Half & Half                      771\n",
      "Seedless Red Grapes                      752\n",
      "Sparkling Water Grapefruit               733\n",
      "Organic Gala Apples                      726\n",
      "Original Hummus                          715\n",
      "Carrots                                  701\n",
      "Organic Large Extra Fancy Fuji Apple     694\n",
      "Organic Baby Arugula                     689\n",
      "Fresh Cauliflower                        688\n",
      "Asparagus                                688\n",
      "Yellow Onions                            676\n",
      "Half & Half                              672\n",
      "Organic Small Bunch Celery               668\n",
      "Organic Cilantro                         664\n",
      "Organic Red Onion                        655\n",
      "Michigan Organic Kale                    649\n",
      "Organic Tomato Cluster                   640\n",
      "Organic Blackberries                     638\n",
      "100% Whole Wheat Bread                   610\n",
      "Raspberries                              598\n",
      "Organic Italian Parsley Bunch            595\n",
      "Organic Granny Smith Apple               580\n",
      "Organic Whole String Cheese              573\n",
      "Organic Unsweetened Almond Milk          569\n",
      "Organic Red Bell Pepper                  566\n",
      "Red Peppers                              561\n",
      "Blueberries                              556\n",
      "Name: product_id, dtype: int64\n"
     ]
    }
   ],
   "source": [
    "top_fifty_products = df['product_id'].value_counts().head(50)\n",
    "print(f'Top fifty products ordered:')\n",
    "print(top_fifty_products)"
   ]
  },
  {
   "cell_type": "markdown",
   "id": "5ff8fc01",
   "metadata": {},
   "source": [
    "### The Apriori Algorithm"
   ]
  },
  {
   "cell_type": "code",
   "execution_count": 9,
   "id": "7f715368",
   "metadata": {},
   "outputs": [
    {
     "name": "stdout",
     "output_type": "stream",
     "text": [
      "      support              itemsets\n",
      "489  0.004106  (1633, 15339, 14349)\n",
      "490  0.004293  (1633, 14349, 16446)\n",
      "491  0.004604  (1633, 15339, 16446)\n"
     ]
    }
   ],
   "source": [
    "def instacart_frequent_itemsets(itemset_df, k, min_support):\n",
    "    frequent_itemsets = apriori(itemset_df.astype(bool), min_support=min_support,use_colnames=True)\n",
    "    frequent_itemsets['length'] = frequent_itemsets['itemsets'].apply(len)\n",
    "    frequent_itemsets = frequent_itemsets[frequent_itemsets['length'] == k]\n",
    "    return frequent_itemsets[['support', 'itemsets']]\n",
    "\n",
    "min_support = 0.004\n",
    "k = 3\n",
    "frequent_3_itemsets = instacart_frequent_itemsets(itemset_df, k, min_support)\n",
    "print(frequent_3_itemsets)"
   ]
  },
  {
   "cell_type": "markdown",
   "id": "03612f78",
   "metadata": {},
   "source": [
    "### Manual Implementation of the Apriori Algorithm\n",
    "---"
   ]
  },
  {
   "cell_type": "markdown",
   "id": "cd0b8302",
   "metadata": {},
   "source": [
    "#### Candidate Generation"
   ]
  },
  {
   "cell_type": "code",
   "execution_count": 10,
   "id": "b6cb727d",
   "metadata": {},
   "outputs": [
    {
     "data": {
      "text/html": [
       "<div>\n",
       "<style scoped>\n",
       "    .dataframe tbody tr th:only-of-type {\n",
       "        vertical-align: middle;\n",
       "    }\n",
       "\n",
       "    .dataframe tbody tr th {\n",
       "        vertical-align: top;\n",
       "    }\n",
       "\n",
       "    .dataframe thead th {\n",
       "        text-align: right;\n",
       "    }\n",
       "</style>\n",
       "<table border=\"1\" class=\"dataframe\">\n",
       "  <thead>\n",
       "    <tr style=\"text-align: right;\">\n",
       "      <th></th>\n",
       "      <th>0</th>\n",
       "      <th>1</th>\n",
       "    </tr>\n",
       "  </thead>\n",
       "  <tbody>\n",
       "    <tr>\n",
       "      <th>0</th>\n",
       "      <td>Banana</td>\n",
       "      <td>100% Whole Wheat Bread</td>\n",
       "    </tr>\n",
       "    <tr>\n",
       "      <th>1</th>\n",
       "      <td>Bag of Organic Bananas</td>\n",
       "      <td>Apple Honeycrisp Organic</td>\n",
       "    </tr>\n",
       "    <tr>\n",
       "      <th>2</th>\n",
       "      <td>Apple Honeycrisp Organic</td>\n",
       "      <td>Banana</td>\n",
       "    </tr>\n",
       "  </tbody>\n",
       "</table>\n",
       "</div>"
      ],
      "text/plain": [
       "                          0                         1\n",
       "0                    Banana    100% Whole Wheat Bread\n",
       "1    Bag of Organic Bananas  Apple Honeycrisp Organic\n",
       "2  Apple Honeycrisp Organic                    Banana"
      ]
     },
     "execution_count": 10,
     "metadata": {},
     "output_type": "execute_result"
    }
   ],
   "source": [
    "FI2_FILE = 'frequent_2_itemsets.csv'\n",
    "df2 = pd.read_csv(FI2_FILE,header=None)\n",
    "df2.head(3)"
   ]
  },
  {
   "cell_type": "code",
   "execution_count": 11,
   "id": "0a609065",
   "metadata": {},
   "outputs": [
    {
     "data": {
      "text/plain": [
       "[frozenset({'100% Whole Wheat Bread', 'Banana'}),\n",
       " frozenset({'Apple Honeycrisp Organic', 'Bag of Organic Bananas'}),\n",
       " frozenset({'Apple Honeycrisp Organic', 'Banana'})]"
      ]
     },
     "execution_count": 11,
     "metadata": {},
     "output_type": "execute_result"
    }
   ],
   "source": [
    "# Extract the two columns and turn them into a list of sets\n",
    "frequent_2_itemsets = [frozenset(itemset) for itemset in [{ row[0], row[1] } for _, row in df2.iterrows()] ]\n",
    "frequent_2_itemsets[:3]"
   ]
  },
  {
   "cell_type": "code",
   "execution_count": 12,
   "id": "3960109d",
   "metadata": {},
   "outputs": [],
   "source": [
    "# Create a generate_candidate_3_itemsets function, which takes as input a list of frequent 2 itemsets\n",
    "# and returns a list of the candidate 3 itemsets\n",
    "def generate_candidate_3_itemsets(frequent_2_itemsets):\n",
    "    candidate_3_itemsets = set()\n",
    "    \n",
    "    # Join \n",
    "    for itemset1 in frequent_2_itemsets:\n",
    "        for itemset2 in frequent_2_itemsets:\n",
    "            union_set = itemset1.union(itemset2)\n",
    "            if len(union_set) == 3:\n",
    "                candidate_3_itemsets.add(frozenset(union_set))\n",
    "                \n",
    "    # Prune\n",
    "    pruned_candidates = set()\n",
    "    for candidate in candidate_3_itemsets:\n",
    "        is_frequent_subset = True\n",
    "        for item in candidate:\n",
    "            subset = frozenset(candidate - {item})\n",
    "            if subset not in frequent_2_itemsets:\n",
    "                is_frequent_subset = False\n",
    "                break\n",
    "        if is_frequent_subset:\n",
    "            pruned_candidates.add(candidate)\n",
    "            \n",
    "    return list(pruned_candidates)"
   ]
  },
  {
   "cell_type": "code",
   "execution_count": 15,
   "id": "cc7ded89",
   "metadata": {},
   "outputs": [
    {
     "data": {
      "text/plain": [
       "[frozenset({'Bag of Organic Bananas',\n",
       "            'Organic Avocado',\n",
       "            'Organic Yellow Onion'}),\n",
       " frozenset({'Apple Honeycrisp Organic',\n",
       "            'Organic Baby Spinach',\n",
       "            'Organic Hass Avocado'}),\n",
       " frozenset({'Bag of Organic Bananas', 'Limes', 'Organic Yellow Onion'})]"
      ]
     },
     "execution_count": 15,
     "metadata": {},
     "output_type": "execute_result"
    }
   ],
   "source": [
    "generate_candidate_3_itemsets(frequent_2_itemsets)[:3]"
   ]
  },
  {
   "cell_type": "code",
   "execution_count": 14,
   "id": "8922c9aa",
   "metadata": {},
   "outputs": [],
   "source": [
    "#"
   ]
  }
 ],
 "metadata": {
  "kernelspec": {
   "display_name": "Python 3 (ipykernel)",
   "language": "python",
   "name": "python3"
  },
  "language_info": {
   "codemirror_mode": {
    "name": "ipython",
    "version": 3
   },
   "file_extension": ".py",
   "mimetype": "text/x-python",
   "name": "python",
   "nbconvert_exporter": "python",
   "pygments_lexer": "ipython3",
   "version": "3.8.16"
  }
 },
 "nbformat": 4,
 "nbformat_minor": 5
}
